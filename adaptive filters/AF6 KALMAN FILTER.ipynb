{
 "cells": [
  {
   "cell_type": "markdown",
   "metadata": {},
   "source": [
    "For this assignment, consider an old Volkswagen Beetle that is driving on a long straight road. Using a Kalman filter, we want to estimate the Beetle’s position on the road and the speed at which it is travelling. First based on speed measurements and then based on position measurements. "
   ]
  },
  {
   "cell_type": "markdown",
   "metadata": {},
   "source": [
    "# (1) . 1.\tAssume that (in theory) the Beetle is travelling at a speed of 90 km/h. Simulate velocity measurements by adding white noise (mean = 0 km/h, standard deviation = 20 km/h) to the theoretical speed and set the sample frequency to one sample per minute. \n",
    "# Design and build a Kalman filter (for example in Python or Octave/Matlab) to estimate the Beetle’s velocity and use the velocity estimates to derive its (one-dimensional) position on the road. (Assume at time 0 the Beetle is at km 0 along the road.) Present your results graphically and comment on them. \n"
   ]
  },
  {
   "cell_type": "code",
   "execution_count": null,
   "metadata": {},
   "outputs": [],
   "source": []
  }
 ],
 "metadata": {
  "kernelspec": {
   "display_name": "Python 3",
   "language": "python",
   "name": "python3"
  },
  "language_info": {
   "codemirror_mode": {
    "name": "ipython",
    "version": 3
   },
   "file_extension": ".py",
   "mimetype": "text/x-python",
   "name": "python",
   "nbconvert_exporter": "python",
   "pygments_lexer": "ipython3",
   "version": "3.8.3"
  }
 },
 "nbformat": 4,
 "nbformat_minor": 4
}
